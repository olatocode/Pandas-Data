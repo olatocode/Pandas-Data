{
 "cells": [
  {
   "cell_type": "code",
   "execution_count": 6,
   "id": "29b68193",
   "metadata": {},
   "outputs": [
    {
     "name": "stdout",
     "output_type": "stream",
     "text": [
      "cA:\n",
      "[[ 4 -2]\n",
      " [ 0  6]]\n",
      "\n",
      "dB:\n",
      "[[ 3 12]\n",
      " [-6 15]]\n",
      "\n",
      "(c + d)A:\n",
      "[[10 -5]\n",
      " [ 0 15]]\n"
     ]
    }
   ],
   "source": [
    "import numpy as np\n",
    "# Define matrices A and B\n",
    "A = np.array([[2, -1], [0, 3]])\n",
    "B = np.array([[1, 4], [-2, 5]])\n",
    "# Define scalars c and d\n",
    "c = 2\n",
    "d = 3\n",
    "# a. Compute (cA), (dB), and (c + d)A\n",
    "cA = c * A\n",
    "dB = d * B\n",
    "cdA = (c + d) * A\n",
    "print(\"cA:\")\n",
    "print(cA)\n",
    "print(\"\\ndB:\")\n",
    "print(dB)\n",
    "print(\"\\n(c + d)A:\")\n",
    "print(cdA)\n"
   ]
  },
  {
   "cell_type": "code",
   "execution_count": 10,
   "id": "0287609b",
   "metadata": {},
   "outputs": [
    {
     "name": "stdout",
     "output_type": "stream",
     "text": [
      "\n",
      "Verifying cA + dA = (c + d)A:\n",
      "False\n",
      "True\n"
     ]
    }
   ],
   "source": [
    "# b. Verify Scalar Multiplication Properties\n",
    "# Checking if cA + dA = (c + d)A\n",
    "print(\"\\nVerifying cA + dA = (c + d)A:\")\n",
    "print(np.allclose(cA + dB, (c + d) * A))  \n",
    "print(np.allclose(c*A + d*A, (c + d)*A))  \n",
    "\n",
    "\n",
    "\n",
    "\n",
    "\n",
    "\n",
    "\n"
   ]
  },
  {
   "cell_type": "code",
   "execution_count": 8,
   "id": "0f19bc50",
   "metadata": {},
   "outputs": [
    {
     "name": "stdout",
     "output_type": "stream",
     "text": [
      "\n",
      "Transpose of A:\n",
      "[[ 2  0]\n",
      " [-1  3]]\n",
      "\n",
      "Transpose of B:\n",
      "[[ 1 -2]\n",
      " [ 4  5]]\n"
     ]
    }
   ],
   "source": [
    "# c. Find the transpose of both matrices\n",
    "A_T = A.T\n",
    "B_T = B.T\n",
    "print(\"\\nTranspose of A:\")\n",
    "print(A_T)\n",
    "print(\"\\nTranspose of B:\")\n",
    "print(B_T)"
   ]
  },
  {
   "cell_type": "code",
   "execution_count": 9,
   "id": "3e724bde",
   "metadata": {},
   "outputs": [
    {
     "name": "stdout",
     "output_type": "stream",
     "text": [
      "\n",
      "Determinant of A: 6.0\n",
      "Determinant of B: 13.0\n",
      "\n",
      "Inverse of A:\n",
      "[[0.5        0.16666667]\n",
      " [0.         0.33333333]]\n",
      "\n",
      "Inverse of B:\n",
      "[[ 0.38461538 -0.30769231]\n",
      " [ 0.15384615  0.07692308]]\n"
     ]
    }
   ],
   "source": [
    "# d. Check if A and B are invertible and find inverses\n",
    "det_A = np.linalg.det(A)\n",
    "det_B = np.linalg.det(B)\n",
    "print(f\"\\nDeterminant of A: {det_A}\")\n",
    "print(f\"Determinant of B: {det_B}\")\n",
    "if det_A != 0:\n",
    "    A_inv = np.linalg.inv(A)\n",
    "    print(\"\\nInverse of A:\")\n",
    "    print(A_inv)\n",
    "else:\n",
    "    print(\"\\nA is not invertible.\")\n",
    "if det_B != 0:\n",
    "    B_inv = np.linalg.inv(B)\n",
    "    print(\"\\nInverse of B:\")\n",
    "    print(B_inv)\n",
    "else:\n",
    "    print(\"\\nB is not invertible.\")\n",
    "\n",
    "\n",
    "\n",
    "\n",
    "\n",
    "\n"
   ]
  }
 ],
 "metadata": {
  "kernelspec": {
   "display_name": "data_and_data_analysis",
   "language": "python",
   "name": "python3"
  },
  "language_info": {
   "codemirror_mode": {
    "name": "ipython",
    "version": 3
   },
   "file_extension": ".py",
   "mimetype": "text/x-python",
   "name": "python",
   "nbconvert_exporter": "python",
   "pygments_lexer": "ipython3",
   "version": "3.13.7"
  }
 },
 "nbformat": 4,
 "nbformat_minor": 5
}
