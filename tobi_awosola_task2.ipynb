{
 "cells": [
  {
   "cell_type": "markdown",
   "id": "a2f74757",
   "metadata": {},
   "source": [
    "# Task 2 Solution"
   ]
  },
  {
   "cell_type": "markdown",
   "id": "b53e3792",
   "metadata": {},
   "source": [
    "### Question 1\n",
    "#### The matrix A has two rows and three columns\n",
    "#### The matrix B has three rows and two columns."
   ]
  },
  {
   "cell_type": "markdown",
   "id": "5b55334c",
   "metadata": {},
   "source": [
    "### Question 2\n",
    "#### Thess matrices can be multiply together because it follows the rules of multiplication in matrix. It means the number of columns in A is equal to the numbers of rows in B and vice versa.\n"
   ]
  },
  {
   "cell_type": "code",
   "execution_count": 1,
   "id": "a145a764",
   "metadata": {},
   "outputs": [
    {
     "name": "stdout",
     "output_type": "stream",
     "text": [
      "(2, 3)\n"
     ]
    }
   ],
   "source": [
    "import numpy as np\n",
    "matrix_A = np.array([[2, -1, 3],\n",
    "                   [0, 4, 1]])\n",
    "print(matrix_A.shape)"
   ]
  },
  {
   "cell_type": "code",
   "execution_count": 2,
   "id": "2b643a4e",
   "metadata": {},
   "outputs": [
    {
     "name": "stdout",
     "output_type": "stream",
     "text": [
      "(3, 2)\n"
     ]
    }
   ],
   "source": [
    "matrix_B = np.array([[1, 2],\n",
    "                    [-2, 0],\n",
    "                    [5, -3]])\n",
    "print(matrix_B.shape)"
   ]
  },
  {
   "cell_type": "code",
   "execution_count": 3,
   "id": "696ec7b5",
   "metadata": {},
   "outputs": [
    {
     "data": {
      "text/plain": [
       "array([[19, -5],\n",
       "       [-3, -3]])"
      ]
     },
     "execution_count": 3,
     "metadata": {},
     "output_type": "execute_result"
    }
   ],
   "source": [
    "np.dot(matrix_A, matrix_B)"
   ]
  },
  {
   "cell_type": "markdown",
   "id": "0f1ca764",
   "metadata": {},
   "source": []
  }
 ],
 "metadata": {
  "kernelspec": {
   "display_name": "pandas_analysis",
   "language": "python",
   "name": "python3"
  },
  "language_info": {
   "codemirror_mode": {
    "name": "ipython",
    "version": 3
   },
   "file_extension": ".py",
   "mimetype": "text/x-python",
   "name": "python",
   "nbconvert_exporter": "python",
   "pygments_lexer": "ipython3",
   "version": "3.13.6"
  }
 },
 "nbformat": 4,
 "nbformat_minor": 5
}
