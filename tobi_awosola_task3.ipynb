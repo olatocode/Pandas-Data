{
 "cells": [
  {
   "cell_type": "markdown",
   "id": "93b07f52",
   "metadata": {},
   "source": [
    "# Task 3 solution"
   ]
  },
  {
   "cell_type": "markdown",
   "id": "4b15cdcd",
   "metadata": {},
   "source": [
    "#### Question 1\n",
    "##### Scalar Multiplication: To find\n",
    "cAc cap A\n",
    "𝑐𝐴, each element of matrix\n",
    "Acap A\n",
    "𝐴 would be multiplied by the scalar\n",
    "cc\n",
    "𝑐  . Similarly, for dBd cap B 𝑑𝐵\n",
    ", each element of matrix \n",
    "Bcap B\n",
    "𝐵\n",
    "would be multiplied by the scalar\n",
    "dd\n",
    "𝑑"
   ]
  },
  {
   "cell_type": "markdown",
   "id": "14571b0b",
   "metadata": {},
   "source": [
    "##### Scalar and Matrix Addition: To find\n",
    "(c+d)Aopen paren c plus d close paren cap A\n",
    "(𝑐+𝑑)𝐴\n",
    ", first, the scalars\n",
    "cc\n",
    "𝑐\n",
    "and\n",
    "dd\n",
    "𝑑\n",
    "would be added together. Then, the resulting sum would be multiplied by each element of matrix\n",
    "Acap A\n",
    "𝐴"
   ]
  },
  {
   "cell_type": "markdown",
   "id": "491fba85",
   "metadata": {},
   "source": [
    "#### Question 2"
   ]
  },
  {
   "cell_type": "markdown",
   "id": "e7834341",
   "metadata": {},
   "source": [
    "Using the results gotten. Verify the Scalar Multiplication Properties \n",
    "To verify scalar multiplication properties using the results from the first problem, one would compare the outcomes of different scalar multiplication and addition combinations based on established properties. For example, one could verify the distributive property of scalar multiplication over matrix addition, such as "
   ]
  },
  {
   "cell_type": "markdown",
   "id": "f16b284e",
   "metadata": {},
   "source": [
    "(c+d)A=cA+dAopen paren c plus d close paren cap A equals c cap A plus d cap A\n",
    "(𝑐+𝑑)𝐴=𝑐𝐴+𝑑𝐴\n",
    ", or the associative property of scalar multiplication, such as\n",
    "(cd)A=c(dA)open paren c d close paren cap A equals c open paren d cap A close paren\n",
    "(𝑐𝑑)𝐴=𝑐(𝑑𝐴)"
   ]
  },
  {
   "cell_type": "markdown",
   "id": "8ca7d1ae",
   "metadata": {},
   "source": [
    "#### Question 3\n",
    "Find the transpose of both matrices \n",
    "To find the transpose of matrices \n",
    "Acap A\n",
    "𝐴\n",
    "and\n",
    "Bcap B\n",
    "𝐵\n",
    "without performing calculations, one would conceptually understand the definition of a transpose: \n",
    "\n",
    "    Matrix Transpose: The transpose of a matrix is obtained by interchanging its rows and columns. The first row of the original matrix becomes the first column of the transposed matrix, the second row becomes the second column, and so on. "
   ]
  },
  {
   "cell_type": "markdown",
   "id": "e15202d5",
   "metadata": {},
   "source": [
    "#### Question 4\n",
    "Check if\n",
    "(A)open paren cap A close paren\n",
    "(𝐴)\n",
    "and\n",
    "(B)open paren cap B close paren\n",
    "(𝐵)\n",
    "are invertible by computing their determinants, if they are invertible \n",
    "To check if matrices\n",
    "Acap A\n",
    "𝐴\n",
    "and\n",
    "Bcap B\n",
    "𝐵\n",
    "are invertible without performing the determinant calculation, one would need to know the condition for invertibility: "
   ]
  },
  {
   "cell_type": "markdown",
   "id": "b59bdeff",
   "metadata": {},
   "source": []
  },
  {
   "cell_type": "markdown",
   "id": "e99f969d",
   "metadata": {},
   "source": [
    "###"
   ]
  }
 ],
 "metadata": {
  "language_info": {
   "name": "python"
  }
 },
 "nbformat": 4,
 "nbformat_minor": 5
}
