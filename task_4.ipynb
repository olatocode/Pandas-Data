{
 "cells": [
  {
   "cell_type": "markdown",
   "id": "1139658f",
   "metadata": {},
   "source": [
    "# Task 4 Case Study Solution"
   ]
  },
  {
   "cell_type": "code",
   "execution_count": null,
   "id": "6db06c78",
   "metadata": {},
   "outputs": [
    {
     "name": "stdout",
     "output_type": "stream",
     "text": [
      "Scores Matrix:\n",
      " [[80 70 90]\n",
      " [60 85 75]\n",
      " [95 88 92]\n",
      " [70 60 65]]\n"
     ]
    }
   ],
   "source": [
    "# From the problem, we have 4 students × 3 subjects (Math, English, Science).\n",
    "# This is a matrix with rows = students, columns = subjects. \n",
    "# so we have 4 rows and 3 columns.\n",
    "import numpy as np\n",
    "\n",
    "# Representing Data as a Matrix\n",
    "scores = np.array([\n",
    "    [80, 70, 90],   # Student 1\n",
    "    [60, 85, 75],   # Student 2\n",
    "    [95, 88, 92],   # Student 3\n",
    "    [70, 60, 65]    # Student 4\n",
    "])\n",
    "print(\"Scores Matrix:\\n\", scores)"
   ]
  },
  {
   "cell_type": "code",
   "execution_count": null,
   "id": "824901df",
   "metadata": {},
   "outputs": [
    {
     "name": "stdout",
     "output_type": "stream",
     "text": [
      "\n",
      "Total Scores per Student: [240 220 275 195]\n"
     ]
    }
   ],
   "source": [
    "# Calculate Total Scores per Student (Vector Addition)\n",
    "# Each student’s total score = sum of their row vector.\n",
    "# In Linear Algebra, that means summing across the row dimension.\n",
    "total_scores = np.sum(scores, axis=1)\n",
    "print(\"\\nTotal Scores per Student:\", total_scores)"
   ]
  },
  {
   "cell_type": "code",
   "execution_count": null,
   "id": "c323dcf0",
   "metadata": {},
   "outputs": [
    {
     "name": "stdout",
     "output_type": "stream",
     "text": [
      "\n",
      "Weighted Scores Matrix:\n",
      " [[160  70  90]\n",
      " [120  85  75]\n",
      " [190  88  92]\n",
      " [140  60  65]]\n",
      "Weighted Totals per Student: [320 280 370 265]\n"
     ]
    }
   ],
   "source": [
    "# Applying the Weights (Math is twice as important as others)\n",
    "# Suppose Math is twice as important → multiply Math column by 2.\n",
    "# In Linear Algebra, this is element-wise scalar multiplication.\n",
    "weights_scalar = np.array([2, 1, 1])  # Math ×2\n",
    "weighted_scores = scores * weights_scalar\n",
    "weighted_totals = np.sum(weighted_scores, axis=1)\n",
    "print(\"\\nWeighted Scores Matrix:\\n\", weighted_scores)\n",
    "print(\"Weighted Totals per Student:\", weighted_totals)"
   ]
  },
  {
   "cell_type": "code",
   "execution_count": null,
   "id": "0873217a",
   "metadata": {},
   "outputs": [
    {
     "name": "stdout",
     "output_type": "stream",
     "text": [
      "\n",
      "Average Score per Subject: [76.25 75.75 80.5 ]\n"
     ]
    }
   ],
   "source": [
    "# The Average Score per Subject (Matrix Operations)\n",
    "# Now, instead of rows, we want averages per subject (column).\n",
    "# That’s just the column mean.\n",
    "avg_per_subject = np.mean(scores, axis=0)\n",
    "print(\"\\nAverage Score per Subject:\", avg_per_subject)"
   ]
  },
  {
   "cell_type": "code",
   "execution_count": 18,
   "id": "1f4a219f",
   "metadata": {},
   "outputs": [
    {
     "name": "stdout",
     "output_type": "stream",
     "text": [
      "\n",
      "Final Grades: [79.  70.5 92.3 66. ]\n"
     ]
    }
   ],
   "source": [
    "# The Final Grades using Matrix Multiplication\n",
    "# Using the weights: [0.5, 0.3, 0.2].\n",
    "# This is a dot product between each student’s score vector and the weights.\n",
    "# In Linear Algebra, that’s matrix × vector multiplication.\n",
    "weight_vector = np.array([0.5, 0.3, 0.2])  # Math=50%, English=30%, Science=20%\n",
    "final_grades = scores @ weight_vector\n",
    "print(\"\\nFinal Grades:\", final_grades)"
   ]
  },
  {
   "cell_type": "code",
   "execution_count": 19,
   "id": "1b934c9b",
   "metadata": {},
   "outputs": [
    {
     "name": "stdout",
     "output_type": "stream",
     "text": [
      "\n",
      "Comparison between Student 3 and Student 4 (Math, English, Science): [25 28 27]\n"
     ]
    }
   ],
   "source": [
    "# Comparison of the  Students (Vector Subtraction)\n",
    "# To compare Student 3 and Student 4, we subtract their vectors.\n",
    "# In Linear Algebra, subtraction tells us the difference in each subject.\n",
    "comparison = scores[2] - scores[3]  # Student 3 - Student 4\n",
    "print(\"\\nComparison between Student 3 and Student 4 (Math, English, Science):\", comparison)"
   ]
  }
 ],
 "metadata": {
  "kernelspec": {
   "display_name": "pandas_analysis",
   "language": "python",
   "name": "python3"
  },
  "language_info": {
   "codemirror_mode": {
    "name": "ipython",
    "version": 3
   },
   "file_extension": ".py",
   "mimetype": "text/x-python",
   "name": "python",
   "nbconvert_exporter": "python",
   "pygments_lexer": "ipython3",
   "version": "3.13.6"
  }
 },
 "nbformat": 4,
 "nbformat_minor": 5
}
