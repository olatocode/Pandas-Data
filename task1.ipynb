{
 "cells": [
  {
   "cell_type": "markdown",
   "id": "1eb2ec2b",
   "metadata": {},
   "source": [
    "# Task1– Mean, Median & Mode\n"
   ]
  },
  {
   "cell_type": "markdown",
   "id": "b8b375c0",
   "metadata": {},
   "source": [
    "#### Q1 \n",
    "Mean =\n",
    "Number of scores /\n",
    "Sum of scores\n",
    "\t​\n",
    "\n",
    "\n",
    "Sum = 5+8+10+12+12+12+13+14+14+15+16+18+18+20+20\n",
    "= 207\n",
    "\n",
    "Number of scores = 15\n",
    "\n",
    "Mean=20715=13.8\n",
    "Mean=\n",
    "15\n",
    "207\n",
    "\t​\n",
    "\n",
    "=13.8"
   ]
  },
  {
   "cell_type": "markdown",
   "id": "0a7a496d",
   "metadata": {},
   "source": [
    "Median\n",
    "\n",
    "For 15 scores (odd number), median = middle value = 8th score (when sorted).\n",
    "\n",
    "8th score = 14"
   ]
  },
  {
   "cell_type": "markdown",
   "id": "a601d392",
   "metadata": {},
   "source": [
    "Mode\n",
    "\n",
    "Most frequent score = 12 (appears 3 times)."
   ]
  },
  {
   "cell_type": "markdown",
   "id": "cf58789a",
   "metadata": {},
   "source": [
    "Correction (lowest score 5 should be 10)\n",
    "\n",
    "New scores: replace 5 with 10.\n",
    "\n",
    "New sum = \n",
    "207−5+10=212\n",
    "\n",
    "New Mean =\n",
    "15/212\n",
    "=14.13\n",
    "\n",
    "Median: Still 14 (middle value doesn’t change).\n",
    "\n",
    "Mode: Still 12 (frequency of 12 doesn’t change).\n",
    "\n",
    "Mean increases (from 13.8 → 14.13).\n",
    "\n",
    "so, the Median unchanged and Mode unchanged."
   ]
  },
  {
   "cell_type": "markdown",
   "id": "beff5056",
   "metadata": {},
   "source": [
    "#### Q2\n",
    "Mean is\n",
    "Sum = \n",
    "15+20+20+25+25+30+60+65+120=380\n",
    "\n",
    "Number of students = 9\n",
    "\n",
    "Mean= 380\n",
    "Mean= 380/9 = 42.2"
   ]
  },
  {
   "cell_type": "markdown",
   "id": "4b97ffa8",
   "metadata": {},
   "source": [
    "Median is\n",
    "9 scores → 5th score = 25\n",
    "\n",
    "Mode\n",
    "\n",
    "Most frequent values: 20 and 25 (both appear twice)."
   ]
  },
  {
   "cell_type": "markdown",
   "id": "72423a74",
   "metadata": {},
   "source": [
    "Best Representation\n",
    "\n",
    "The student with 120 minutes is an outlier, making the mean misleading (too high).\n",
    "Median (25) or mode (20 & 25) better represent the “typical” commute.\n",
    "\n",
    "So, Median = 25 minutes is the best measure."
   ]
  },
  {
   "cell_type": "markdown",
   "id": "8aad1313",
   "metadata": {},
   "source": [
    "#### Q3\n",
    "Mode\n",
    "\n",
    "Count frequencies:\n",
    "\n",
    "37 → 1\n",
    "\n",
    "38 → 3\n",
    "\n",
    "39 → 4\n",
    "\n",
    "40 → 3\n",
    "\n",
    "41 → 2\n",
    "\n",
    "42 → 2\n",
    "\n",
    "Most frequent = 39"
   ]
  },
  {
   "cell_type": "markdown",
   "id": "caeef824",
   "metadata": {},
   "source": [
    "Mode = 39\n",
    "\n",
    "If shoe company donates free shoes\n",
    "\n",
    "They should produce size 39, since most students wear it."
   ]
  },
  {
   "cell_type": "markdown",
   "id": "d2da3c15",
   "metadata": {},
   "source": [
    "If only one size for the “average” student\n",
    "\n",
    "Mean would give a non-integer (between 39–40).\n",
    "\n",
    "Median and Mode are actual shoe sizes students wear.\n",
    "\n",
    "Since shoes must fit real sizes, Mode (39) or Median is more practical.\n",
    "\n",
    "Best choice: Mode (39) because it represents the most common actual size."
   ]
  }
 ],
 "metadata": {
  "language_info": {
   "name": "python"
  }
 },
 "nbformat": 4,
 "nbformat_minor": 5
}
